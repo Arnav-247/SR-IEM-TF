{
 "cells": [
  {
   "cell_type": "code",
   "execution_count": 1,
   "id": "044014ed-37f4-4ff2-b754-8b2aa4795523",
   "metadata": {},
   "outputs": [],
   "source": [
    "from collections import defaultdict\n",
    "from datetime import datetime\n",
    "import pandas as pd\n",
    "import numpy as np"
   ]
  },
  {
   "cell_type": "code",
   "execution_count": 17,
   "id": "d5f6b69a-206d-40e4-af14-95eeea585906",
   "metadata": {},
   "outputs": [
    {
     "data": {
      "text/plain": [
       "(25000095, 4)"
      ]
     },
     "execution_count": 17,
     "metadata": {},
     "output_type": "execute_result"
    }
   ],
   "source": [
    "df = pd.read_csv('data/ml-25m/ratings.csv', sep=',')#, names=['userId','movieId','rating','timestamp'], header=None)\n",
    "df.shape"
   ]
  },
  {
   "cell_type": "code",
   "execution_count": 18,
   "id": "d2a5e011-6872-4c30-bc77-76fd9264b97d",
   "metadata": {},
   "outputs": [
    {
     "data": {
      "text/html": [
       "<div>\n",
       "<style scoped>\n",
       "    .dataframe tbody tr th:only-of-type {\n",
       "        vertical-align: middle;\n",
       "    }\n",
       "\n",
       "    .dataframe tbody tr th {\n",
       "        vertical-align: top;\n",
       "    }\n",
       "\n",
       "    .dataframe thead th {\n",
       "        text-align: right;\n",
       "    }\n",
       "</style>\n",
       "<table border=\"1\" class=\"dataframe\">\n",
       "  <thead>\n",
       "    <tr style=\"text-align: right;\">\n",
       "      <th></th>\n",
       "      <th>userId</th>\n",
       "      <th>movieId</th>\n",
       "      <th>rating</th>\n",
       "      <th>timestamp</th>\n",
       "    </tr>\n",
       "  </thead>\n",
       "  <tbody>\n",
       "    <tr>\n",
       "      <th>0</th>\n",
       "      <td>1</td>\n",
       "      <td>296</td>\n",
       "      <td>5.0</td>\n",
       "      <td>1147880044</td>\n",
       "    </tr>\n",
       "    <tr>\n",
       "      <th>1</th>\n",
       "      <td>1</td>\n",
       "      <td>306</td>\n",
       "      <td>3.5</td>\n",
       "      <td>1147868817</td>\n",
       "    </tr>\n",
       "    <tr>\n",
       "      <th>2</th>\n",
       "      <td>1</td>\n",
       "      <td>307</td>\n",
       "      <td>5.0</td>\n",
       "      <td>1147868828</td>\n",
       "    </tr>\n",
       "    <tr>\n",
       "      <th>3</th>\n",
       "      <td>1</td>\n",
       "      <td>665</td>\n",
       "      <td>5.0</td>\n",
       "      <td>1147878820</td>\n",
       "    </tr>\n",
       "    <tr>\n",
       "      <th>4</th>\n",
       "      <td>1</td>\n",
       "      <td>899</td>\n",
       "      <td>3.5</td>\n",
       "      <td>1147868510</td>\n",
       "    </tr>\n",
       "  </tbody>\n",
       "</table>\n",
       "</div>"
      ],
      "text/plain": [
       "   userId  movieId  rating   timestamp\n",
       "0       1      296     5.0  1147880044\n",
       "1       1      306     3.5  1147868817\n",
       "2       1      307     5.0  1147868828\n",
       "3       1      665     5.0  1147878820\n",
       "4       1      899     3.5  1147868510"
      ]
     },
     "execution_count": 18,
     "metadata": {},
     "output_type": "execute_result"
    }
   ],
   "source": [
    "df.head()"
   ]
  },
  {
   "cell_type": "code",
   "execution_count": 19,
   "id": "87fa6b51-5d2a-45e4-b989-cf2d44d98b36",
   "metadata": {},
   "outputs": [],
   "source": [
    "# Remove userIds with less than 50 occurences\n",
    "users_to_rem = df.userId.value_counts() < 10\n",
    "users_to_rem = [users_to_rem.index[i] if users_to_rem.iloc[i] else np.nan for i in range(len(users_to_rem))]\n",
    "df = df[~df.loc[:,'userId'].isin(users_to_rem)]"
   ]
  },
  {
   "cell_type": "code",
   "execution_count": 20,
   "id": "9c0401e5-69e8-49b1-977c-e8bab6785d5b",
   "metadata": {},
   "outputs": [],
   "source": [
    "# Remove movieIds with less than 20 occurences\n",
    "movies_to_rem = df.movieId.value_counts() < 10\n",
    "movies_to_rem = [movies_to_rem.index[i] if movies_to_rem.iloc[i] else np.nan for i in range(len(movies_to_rem))]\n",
    "df = df[~df.loc[:,'movieId'].isin(movies_to_rem)]"
   ]
  },
  {
   "cell_type": "code",
   "execution_count": 21,
   "id": "5e5adf72-f681-4956-8b47-d03d058069b3",
   "metadata": {},
   "outputs": [
    {
     "data": {
      "text/plain": [
       "(24890583, 4)"
      ]
     },
     "execution_count": 21,
     "metadata": {},
     "output_type": "execute_result"
    }
   ],
   "source": [
    "df.shape"
   ]
  },
  {
   "cell_type": "code",
   "execution_count": 22,
   "id": "13ee9c95-d5be-4082-a0bc-5b4f34ced076",
   "metadata": {},
   "outputs": [
    {
     "data": {
      "text/plain": [
       "(12425320, 4)"
      ]
     },
     "execution_count": 22,
     "metadata": {},
     "output_type": "execute_result"
    }
   ],
   "source": [
    "df = df[df.rating > 3.5]\n",
    "df.shape"
   ]
  },
  {
   "cell_type": "code",
   "execution_count": 23,
   "id": "84751a62-30c7-4bf4-bdd9-4b8f0cc570c4",
   "metadata": {},
   "outputs": [],
   "source": [
    "# Sorting\n",
    "df = df.sort_values(['userId','timestamp']).reset_index(drop=True)"
   ]
  },
  {
   "cell_type": "code",
   "execution_count": 24,
   "id": "ef4d693e-0113-4700-93ed-c6490040b205",
   "metadata": {},
   "outputs": [],
   "source": [
    "df.drop(columns=['rating', 'timestamp'], inplace=True)"
   ]
  },
  {
   "cell_type": "code",
   "execution_count": 25,
   "id": "ffc7c568-4f41-4844-83c9-4e7573f9cecc",
   "metadata": {},
   "outputs": [],
   "source": [
    "midx = int(np.floor(df.shape[0] * 0.8))"
   ]
  },
  {
   "cell_type": "code",
   "execution_count": 26,
   "id": "152f3271-2f2d-481f-8465-5bf2b5435ae5",
   "metadata": {},
   "outputs": [
    {
     "name": "stdout",
     "output_type": "stream",
     "text": [
      "(9940256, 2)\n",
      "(2485064, 2)\n"
     ]
    }
   ],
   "source": [
    "trainUser = df.iloc[midx,:].userId\n",
    "i = -1\n",
    "currUser = 0\n",
    "while currUser != trainUser:\n",
    "    i+=1\n",
    "    currUser = df.iloc[midx+i,:].userId\n",
    "\n",
    "train_set = df.iloc[:midx+i, :]\n",
    "test_set = df.iloc[midx+i:, :]\n",
    "print(train_set.shape)\n",
    "print(test_set.shape)"
   ]
  },
  {
   "cell_type": "code",
   "execution_count": 27,
   "id": "ccb3aa22-817f-4c9f-8368-24101f9e0a60",
   "metadata": {},
   "outputs": [],
   "source": [
    "train_set.to_csv('data/ml-25m/ratings_processed_train.csv', index=False)\n",
    "test_set.to_csv('data/ml-25m/ratings_processed_test.csv', index=False)"
   ]
  }
 ],
 "metadata": {
  "kernelspec": {
   "display_name": "Python [conda env:tf-2.6]",
   "language": "python",
   "name": "conda-env-tf-2.6-py"
  },
  "language_info": {
   "codemirror_mode": {
    "name": "ipython",
    "version": 3
   },
   "file_extension": ".py",
   "mimetype": "text/x-python",
   "name": "python",
   "nbconvert_exporter": "python",
   "pygments_lexer": "ipython3",
   "version": "3.9.16"
  }
 },
 "nbformat": 4,
 "nbformat_minor": 5
}
